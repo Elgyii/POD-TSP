{
 "cells": [
  {
   "cell_type": "markdown",
   "metadata": {},
   "source": [
    "<h1>Python Install</h1> \n",
    "\n",
    "\n",
    "All of the tutorials will use Python 3 Environment\n",
    "\n",
    "There are basically two ways to get Python up and running\n",
    "> 1. Based on Anaconda Setup-based Install\n",
    "> 2. Based on Python Setup-based Install\n",
    "\n",
    "<p>The second is the easiest and recommended in most cases</p>\n",
    "\n",
    "<p>This guide will just walk you through the basics to get Python 3.7 installed. I do not give a full account of how to install or troubleshoot the installion. I just give a simple overview and some resources that can help in case a problem is encountered. The installation focus on Windows. I start off with Anaconda-based setting for both Windows 10. Then I end with Python setup-based setting also for Windows 10</p>\n",
    "\n",
    "---\n",
    "<h3>1. Anaconda Setup-based Install</h3>\n",
    "\n",
    "This is the easiest installation process to get Python up and running without much turbulence. Also, there are certain Python modules that are very hard to have them easily installed accross different platforms, such as the case of basemap or pyhdf. For that reason, Anaconda is the ideal solution<br />\n",
    "\n",
    "Visit the [Anaconda page](https://www.anaconda.com/products/individual) and download your OS specific setup\n",
    "Select the appropriate OS, e.g. ```Python 3.7 64-Bit Graphical Installer (Windows or MacOS) or 64-Bit (x86) Installer (Linux)``` See the image below</p>"
   ]
  },
  {
   "cell_type": "markdown",
   "metadata": {},
   "source": [
    "<img align=\"left\" width=\"700\" src=\"Anaconda_setups.PNG\">"
   ]
  },
  {
   "cell_type": "markdown",
   "metadata": {},
   "source": [
    "For Windows or MacOS it suffices to follow the installation wizard’s defaults. If you encounter any issues, visit the Anaconda documentation [page](https://docs.anaconda.com/anaconda/install/). It includes a wealth of installation instructions for different OS. Follow [this link](https://docs.anaconda.com/anaconda/install/linux/) for instructions on Linux install\n",
    "<br />\n",
    "\n",
    "Windows: we can verify that Anaconda is installed by going to the start menu and find Anaconda3 (64-Bit) folder (see the image below)"
   ]
  },
  {
   "cell_type": "markdown",
   "metadata": {},
   "source": [
    "<img align=\"left\" width=\"250\" src=Anaconda_installed.PNG>"
   ]
  },
  {
   "cell_type": "markdown",
   "metadata": {},
   "source": [
    "<!-- ![Anaconda_installed.PNG](attachment:Anaconda_installed.PNG){: width=150 height=100 style=\"float:right; padding:16px\"} -->\n",
    "<!-- img [src=Anaconda_installed.PNG] {width:150px;height:100px;} -->\n",
    "<!-- img [src=\"bordered\"] {border: 1px solid black;} -->\n",
    "<!-- ![Anaconda_installed.PNG](attachment:Anaconda_installed.PNG) -->\n",
    "<!-- {:style=\"float: right;margin-left: 7px;margin-top: 7px;\"} -->\n",
    "<!-- <p> <img align=\"left\" width=\"300\" src=Anaconda_installed.PNG> </p> -->\n",
    "\n",
    "---\n",
    "### 2. Python Setup-based Install\n",
    "For those who just want Python along with a few additional packages installed on your system can opt for this install. Anaconda by default install many packages, including interfaces like Spyder, etc., that may not be of your interest and may take up you disk space. \n",
    "<br />\n",
    "\n",
    "Click the [link](https://www.python.org/ftp/python/3.7.7/python-3.7.7-amd64.exe) to download Python 3.7.\n",
    "Open the setup by double click and follow the defaults of the installation wizard\n",
    "<b> _Keep note of the installation folder_ </b> in case is needed later on\n",
    "<br />\n",
    "\n",
    "Open ```command prompt``` and type ```python``` and ```enter```. If the version just installed is opened, as in the image below, then all is set.\n",
    "If command prompt outputs ```'python' is not recognized as an internal or external command, operable program or batch file``` then we need to set the Python path into Environment Variables"
   ]
  },
  {
   "cell_type": "markdown",
   "metadata": {},
   "source": [
    "<img align=\"left\" width=\"650\" src=python_cmd.PNG>"
   ]
  },
  {
   "cell_type": "markdown",
   "metadata": {},
   "source": [
    "***\n",
    "#### Environment Variables Setting\n",
    "If Python was successfully installed and cannot open from command prompt then we should have to update the environment variables to point into the installion folder\n",
    "\n",
    "To set the path in ```Environment Variables```, go to ```Windows Explorer → This PC → Properties``` or alternatively within windows explorer's address bar type ```Control Panel\\System and Security\\System``` then the window below will open"
   ]
  },
  {
   "cell_type": "markdown",
   "metadata": {},
   "source": [
    "<img align=\"left\" width=\"650\" src=system_window.PNG>"
   ]
  },
  {
   "cell_type": "markdown",
   "metadata": {},
   "source": [
    "Select ```Advanced system settings```<br />\n",
    "\n",
    "A new window of ```System Properties``` opens<br />\n",
    "\n",
    "Then select ```Advanced``` and on the right lower part click ```Environment Variables``` <br />\n",
    "\n",
    "Under ```Environment Variables``` select ```Path``` and click ```Edit``` and this will popup another window<br />\n",
    "\n",
    "Click ```New``` in the ```Edit environment variable``` at the top right corner <br />\n",
    "\n",
    "This will place the cursor in an empty cell, the last in the list<br />\n",
    "\n",
    "Copy and paste the installation path of your Python37 install and close all the opened windows.\n",
    "\n",
    "Open again a new ```command prompt``` window and type ```python``` then ```enter```. This time it should work.\n",
    "\n",
    "If it does not work, please check other python install guides. [Real Python](https://realpython.com/) offers this [excelent guide](https://realpython.com/installing-python/#step-1-download-the-python-3-installer) for many OS including Linux Subsystem on Windows. Also the Python [homepage](https://www.python.org/doc/) offers a great deal of documentation to get started"
   ]
  },
  {
   "cell_type": "markdown",
   "metadata": {},
   "source": [
    "<img align=\"left\" width=\"850\" src=env_vars.PNG>"
   ]
  }
 ],
 "metadata": {
  "kernelspec": {
   "display_name": "Python 3",
   "language": "python",
   "name": "python3"
  },
  "language_info": {
   "codemirror_mode": {
    "name": "ipython",
    "version": 3
   },
   "file_extension": ".py",
   "mimetype": "text/x-python",
   "name": "python",
   "nbconvert_exporter": "python",
   "pygments_lexer": "ipython3",
   "version": "3.7.6"
  }
 },
 "nbformat": 4,
 "nbformat_minor": 4
}
